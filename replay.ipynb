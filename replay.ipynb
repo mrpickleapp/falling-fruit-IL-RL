{
 "cells": [
  {
   "cell_type": "markdown",
   "metadata": {},
   "source": [
    "# Relay one model"
   ]
  },
  {
   "cell_type": "code",
   "execution_count": 56,
   "metadata": {},
   "outputs": [],
   "source": [
    "import numpy as np\n",
    "import os\n",
    "\n",
    "import game\n",
    "import dqn\n",
    "\n",
    "import importlib\n",
    "importlib.reload(game)\n",
    "importlib.reload(dqn)\n",
    "\n",
    "model = 128\n",
    "folder = 'models'\n",
    "\n",
    "record_video = False\n",
    "\n",
    "env = game.Environment()\n",
    "\n",
    "agent = dqn.DQN(\n",
    "    state_shape=env.ENVIRONMENT_SHAPE,\n",
    "    action_size=env.ACTION_SPACE_SIZE\n",
    ")\n",
    "\n",
    "# agent.load(f'models/{model}.h5')\n",
    "agent.load(f'{folder}/{model}.h5')\n",
    "\n",
    "state = env.reset()\n",
    "state = np.expand_dims(state, axis=0)\n",
    "\n",
    "import pygame\n",
    "pygame.init()\n",
    "screen = pygame.display.set_mode((env.WINDOW_WIDTH, env.WINDOW_HEIGHT))\n",
    "clock = pygame.time.Clock()\n",
    "running = True\n",
    "score = 0\n",
    "\n",
    "import record\n",
    "recorder = None\n",
    "if record_video:\n",
    "    recorder = record.ScreenRecorder(env.WINDOW_WIDTH, env.WINDOW_HEIGHT, env.FPS, f\"{folder}_{model}.avi\")\n",
    "\n",
    "while running:\n",
    "\n",
    "    pygame.display.set_caption(f\"Score: {score}\")\n",
    "\n",
    "    for event in pygame.event.get():\n",
    "        if event.type == pygame.QUIT:\n",
    "            running = False\n",
    "\n",
    "    action = agent.act(state, 0)\n",
    "    state, reward, done, score = env.step(action)\n",
    "    state = np.expand_dims(state, axis=0)\n",
    "\n",
    "    env.render(screen)\n",
    "    pygame.display.flip()\n",
    "    clock.tick(15)\n",
    "\n",
    "    if record_video:\n",
    "        recorder.capture_frame(screen)\n",
    "\n",
    "pygame.quit()\n",
    "if record_video:\n",
    "    recorder.end_recording()"
   ]
  },
  {
   "cell_type": "markdown",
   "metadata": {},
   "source": [
    "# Record 3 models at once"
   ]
  },
  {
   "cell_type": "code",
   "execution_count": 57,
   "metadata": {},
   "outputs": [
    {
     "name": "stdout",
     "output_type": "stream",
     "text": [
      "Initializing ScreenRecorder with parameters width:1100 height:360 fps:15.\n",
      "Output of the screen recording saved to models_comparison.avi.\n"
     ]
    }
   ],
   "source": [
    "import numpy as np\n",
    "\n",
    "import game\n",
    "import dqn\n",
    "\n",
    "import importlib\n",
    "importlib.reload(game)\n",
    "importlib.reload(dqn)\n",
    "\n",
    "models = [-1, 50, 128]\n",
    "folder = 'models'\n",
    "\n",
    "agents = []\n",
    "envs = []\n",
    "states = []\n",
    "scores = [0 for m in models]\n",
    "\n",
    "for model in models:\n",
    "    env = game.Environment()\n",
    "    agent = dqn.DQN(\n",
    "        state_shape=env.ENVIRONMENT_SHAPE,\n",
    "        action_size=env.ACTION_SPACE_SIZE\n",
    "    )\n",
    "    agent.load(f'{folder}/{model}.h5')\n",
    "\n",
    "    state = env.reset()\n",
    "    state = np.expand_dims(state, axis=0)\n",
    "\n",
    "    agents.append(agent)\n",
    "    envs.append(env)\n",
    "    states.append(state)\n",
    "\n",
    "padding = 10\n",
    "\n",
    "env = envs[0]\n",
    "\n",
    "import pygame\n",
    "pygame.init()\n",
    "screen = pygame.display.set_mode((env.WINDOW_WIDTH * len(models) + (padding * (len(models) - 1)), env.WINDOW_HEIGHT))\n",
    "pygame.display.set_caption(f\"Models: {models}\")\n",
    "font = pygame.font.SysFont(None, 36)\n",
    "clock = pygame.time.Clock()\n",
    "running = True\n",
    "\n",
    "record_video = True\n",
    "\n",
    "import record\n",
    "recorder = None\n",
    "if record_video:\n",
    "    recorder = record.ScreenRecorder(env.WINDOW_WIDTH * len(models) + (padding * (len(models) - 1)), env.WINDOW_HEIGHT, 15, f\"{folder}_comparison.avi\")\n",
    "\n",
    "MAX_TICKS = 2000\n",
    "\n",
    "tick = 0\n",
    "while running:\n",
    "\n",
    "    screen.fill(\"white\")\n",
    "\n",
    "    for event in pygame.event.get():\n",
    "        if event.type == pygame.QUIT:\n",
    "            running = False\n",
    "\n",
    "    for m, model in enumerate(models):\n",
    "\n",
    "        x_offset = m * (env.WINDOW_WIDTH + padding)\n",
    "\n",
    "        action = agents[m].act(states[m], 0)\n",
    "        state, reward, done, scores[m] = envs[m].step(action)\n",
    "        states[m] = np.expand_dims(state, axis=0)\n",
    "\n",
    "        envs[m].render(screen, solo=False, x_offset=x_offset)\n",
    "\n",
    "        text_surface = font.render(f\"{scores[m]}\", True, (50, 50, 50))\n",
    "        screen.blit(text_surface, (int(x_offset + env.WINDOW_WIDTH / 2) - 10, 20))\n",
    "\n",
    "    # black bars\n",
    "    for i in range(1, len(models)):\n",
    "        x_offset = i * (env.WINDOW_WIDTH + padding)\n",
    "        pygame.draw.rect(\n",
    "            screen,\n",
    "            \"black\",\n",
    "            ((x_offset + padding, 0), (padding, env.WINDOW_HEIGHT))\n",
    "        )\n",
    "    \n",
    "    pygame.display.flip()\n",
    "    clock.tick(30)\n",
    "\n",
    "    if record_video:\n",
    "        recorder.capture_frame(screen)\n",
    "\n",
    "    tick += 1\n",
    "\n",
    "    if tick >= MAX_TICKS:\n",
    "        running = False\n",
    "\n",
    "pygame.quit()\n",
    "if record_video:\n",
    "    recorder.end_recording()"
   ]
  },
  {
   "cell_type": "code",
   "execution_count": 54,
   "metadata": {},
   "outputs": [
    {
     "name": "stdout",
     "output_type": "stream",
     "text": [
      "[[0. 0. 0. 0. 0. 0. 0. 0. 0. 0. 0. 0.]\n",
      " [0. 0. 0. 0. 0. 0. 0. 0. 0. 0. 0. 0.]\n",
      " [0. 0. 0. 0. 0. 0. 0. 0. 0. 0. 0. 0.]\n",
      " [0. 0. 0. 0. 0. 0. 0. 0. 0. 0. 0. 0.]\n",
      " [0. 0. 0. 0. 0. 0. 0. 0. 1. 0. 0. 0.]\n",
      " [0. 0. 0. 0. 0. 0. 0. 0. 0. 0. 0. 0.]\n",
      " [0. 0. 0. 0. 0. 0. 0. 0. 0. 0. 0. 0.]\n",
      " [0. 0. 0. 0. 0. 0. 0. 0. 0. 0. 0. 0.]\n",
      " [0. 0. 0. 0. 0. 0. 0. 0. 0. 0. 0. 0.]\n",
      " [0. 0. 0. 0. 0. 0. 0. 0. 0. 0. 0. 0.]\n",
      " [0. 0. 0. 1. 0. 0. 0. 0. 0. 0. 0. 0.]\n",
      " [0. 0. 0. 0. 2. 2. 0. 0. 0. 0. 0. 0.]]\n"
     ]
    }
   ],
   "source": [
    "print(envs[0].field.body)"
   ]
  },
  {
   "cell_type": "code",
   "execution_count": 55,
   "metadata": {},
   "outputs": [
    {
     "data": {
      "text/plain": [
       "<matplotlib.image.AxesImage at 0x195c72205e0>"
      ]
     },
     "execution_count": 55,
     "metadata": {},
     "output_type": "execute_result"
    },
    {
     "data": {
      "image/png": "[encoded data removed]",
      "text/plain": [
       "<Figure size 640x480 with 1 Axes>"
      ]
     },
     "metadata": {},
     "output_type": "display_data"
    }
   ],
   "source": [
    "import matplotlib.pyplot as plt\n",
    "\n",
    "plt.imshow(envs[0].field.body)"
   ]
  }
 ],
 "metadata": {
  "kernelspec": {
   "display_name": "Python 3",
   "language": "python",
   "name": "python3"
  },
  "language_info": {
   "codemirror_mode": {
    "name": "ipython",
    "version": 3
   },
   "file_extension": ".py",
   "mimetype": "text/x-python",
   "name": "python",
   "nbconvert_exporter": "python",
   "pygments_lexer": "ipython3",
   "version": "3.10.0"
  },
  "orig_nbformat": 4
 },
 "nbformat": 4,
 "nbformat_minor": 2
}
